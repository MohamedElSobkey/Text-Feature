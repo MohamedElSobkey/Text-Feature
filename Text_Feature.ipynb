{
  "nbformat": 4,
  "nbformat_minor": 0,
  "metadata": {
    "colab": {
      "private_outputs": true,
      "provenance": [],
      "mount_file_id": "1463zxvCEjd8gdLMylgex1Wb62jx2rX62",
      "authorship_tag": "ABX9TyPy40JRjffD3v0W0boD704E",
      "include_colab_link": true
    },
    "kernelspec": {
      "name": "python3",
      "display_name": "Python 3"
    },
    "language_info": {
      "name": "python"
    }
  },
  "cells": [
    {
      "cell_type": "markdown",
      "metadata": {
        "id": "view-in-github",
        "colab_type": "text"
      },
      "source": [
        "<a href=\"https://colab.research.google.com/github/MohamedElSobkey/Text-Feature/blob/main/Text_Feature.ipynb\" target=\"_parent\"><img src=\"https://colab.research.google.com/assets/colab-badge.svg\" alt=\"Open In Colab\"/></a>"
      ]
    },
    {
      "cell_type": "code",
      "execution_count": null,
      "metadata": {
        "id": "sTOjAdcGp5-t"
      },
      "outputs": [],
      "source": [
        "import pandas as pd"
      ]
    },
    {
      "cell_type": "code",
      "source": [
        "data = pd.read_csv('/content/drive/MyDrive/Text Feature Data/Rumors.csv', encoding='ISO-8859-1')\n",
        "data.head(3)"
      ],
      "metadata": {
        "id": "PrYiLbCOqjSk"
      },
      "execution_count": null,
      "outputs": []
    },
    {
      "cell_type": "code",
      "source": [
        "T = r'Voor live-ontwikkeling ter plekke aanslag Charlie Hebdo, volg â€œ@stefandevries: Just arrived @bcc at scene.. #charliehebdo http://t.co/HfzVNcWCGmâ€'\n",
        "T.split('@')[1].split()[0]"
      ],
      "metadata": {
        "id": "2WDAxPoL3NdZ"
      },
      "execution_count": null,
      "outputs": []
    },
    {
      "cell_type": "code",
      "source": [
        "T = r'@MaxWindCowie @CintaArsenal please do not blame Islamists just yet. It could well be the act of extreme-right fanatics you know...'\n",
        "T.split('@')[1].split()[0]"
      ],
      "metadata": {
        "id": "4n9rE87LVrYj"
      },
      "execution_count": null,
      "outputs": []
    },
    {
      "cell_type": "code",
      "source": [
        "T = r'@MaxWindCowie and definitely not strong enough to make you believe in it.'\n",
        "T.split('@')[1].split()[0]"
      ],
      "metadata": {
        "id": "dNBQecEgVwCM"
      },
      "execution_count": null,
      "outputs": []
    },
    {
      "cell_type": "code",
      "source": [
        "T = r'Voor live-ontwikkeling ter plekke aanslag Charlie Hebdo, volg â€œ@stefandevries: Just arrived @bcc at scene.. #charliehebdo http://t.co/HfzVNcWCGmâ€'\n",
        "T.split('@')[0]"
      ],
      "metadata": {
        "id": "pMyYUrqsV1Pe"
      },
      "execution_count": null,
      "outputs": []
    },
    {
      "cell_type": "code",
      "source": [
        "T = 'kj; kjaa; skdjv'\n",
        "\n",
        "T.split('m')"
      ],
      "metadata": {
        "id": "E6mecB8FV4ED"
      },
      "execution_count": null,
      "outputs": []
    },
    {
      "cell_type": "code",
      "source": [
        "data['ReplyNumber'].value_counts()"
      ],
      "metadata": {
        "id": "9nuyTdqDWKXP"
      },
      "execution_count": null,
      "outputs": []
    },
    {
      "cell_type": "code",
      "source": [
        "def CheckReplies(tweet) :\n",
        "    FirstReply = ''\n",
        "    if '@' in tweet :\n",
        "        FirstReply = tweet.split('@')[1].split()[0]\n",
        "        FirstReply = FirstReply.replace(':','').replace(')','').lower()\n",
        "    else:\n",
        "        FirstReply = '***NoReply***'\n",
        "    return FirstReply\n",
        "\n",
        "def FirstLink(tweet) :\n",
        "    GetFirstLink = ''\n",
        "    if r'http://t.co/' in tweet :\n",
        "        GetFirstLink = [i for i in tweet.split() if 'http://t.co/' in i][0]\n",
        "    else:\n",
        "        GetFirstLink = '***NoLink***'\n",
        "    return GetFirstLink"
      ],
      "metadata": {
        "id": "mir68G_RWO1g"
      },
      "execution_count": null,
      "outputs": []
    },
    {
      "cell_type": "code",
      "source": [
        "%%time\n",
        "data['TweetLetters'] = data['text'].apply(lambda x : len(x))\n",
        "data['TweetWords'] = data['text'].apply(lambda x : len(x.split()))\n",
        "data['ReplyNumber'] = data['text'].apply(lambda n : n.count('@'))\n",
        "#data['FirstReply'] = data['text'].apply(lambda T :  CheckReplies(T))\n",
        "data['LinkExistence'] = data['text'].apply(lambda x: r'http://t.co/' in x )\n",
        "data['FirstLink'] = data['text'].apply(lambda x: FirstLink(x))"
      ],
      "metadata": {
        "id": "2d_LrhZHWWUl"
      },
      "execution_count": null,
      "outputs": []
    },
    {
      "cell_type": "code",
      "source": [
        "data['FirstLink'].value_counts()"
      ],
      "metadata": {
        "id": "ocWOE_3PWsGM"
      },
      "execution_count": null,
      "outputs": []
    },
    {
      "cell_type": "code",
      "source": [
        "#data[['text','TweetLength']]"
      ],
      "metadata": {
        "id": "PJC5KKkvXOst"
      },
      "execution_count": null,
      "outputs": []
    },
    {
      "cell_type": "code",
      "source": [
        "data.head()"
      ],
      "metadata": {
        "id": "X5YEzG66XmYL"
      },
      "execution_count": null,
      "outputs": []
    },
    {
      "cell_type": "code",
      "source": [
        "data['Summation'] = data.apply(lambda x : int(x['favorite_count']) + int(x['retweet_count']) + int(x['Label'])  ,axis= 1  )\n",
        "data['Summation'].value_counts()"
      ],
      "metadata": {
        "id": "0eg7MA31XdNL"
      },
      "execution_count": null,
      "outputs": []
    },
    {
      "cell_type": "code",
      "source": [
        "def TweetClassFunction(TweetLetters,TweetWords,ReplyNumber) :\n",
        "    Class = ''\n",
        "    if TweetLetters > 50 and TweetWords> 10 and ReplyNumber > 2 :\n",
        "        Class = 'Tweet A'\n",
        "    else :\n",
        "        Class = 'Tweet B'\n",
        "    return Class\n",
        "\n",
        "\n",
        "\n",
        "data['TweetClass'] = data.apply(lambda x : TweetClassFunction(x['TweetLetters'],x['TweetWords'],x['ReplyNumber']) ,axis = 1)"
      ],
      "metadata": {
        "id": "pTgud82FXSxl"
      },
      "execution_count": null,
      "outputs": []
    },
    {
      "cell_type": "code",
      "source": [
        "data['TweetClass'].value_counts()"
      ],
      "metadata": {
        "id": "tg2Vvv2xXUbn"
      },
      "execution_count": null,
      "outputs": []
    },
    {
      "cell_type": "code",
      "source": [
        "data[data['LinkExistence']==True]['text'].tolist()"
      ],
      "metadata": {
        "id": "Po9nPSt6XAj1"
      },
      "execution_count": null,
      "outputs": []
    },
    {
      "cell_type": "code",
      "source": [],
      "metadata": {
        "id": "moIt3m1gXES2"
      },
      "execution_count": null,
      "outputs": []
    }
  ]
}